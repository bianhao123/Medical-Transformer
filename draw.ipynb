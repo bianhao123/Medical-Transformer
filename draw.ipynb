{
 "cells": [
  {
   "cell_type": "code",
   "execution_count": null,
   "metadata": {
    "collapsed": true
   },
   "outputs": [],
   "source": [
    "import matplotlib.pyplot as plt\n",
    "from WSI_handling import wsi\n"
   ]
  },
  {
   "cell_type": "code",
   "execution_count": 5,
   "outputs": [],
   "source": [
    "img_fname = r'/data/bianhao/MoNuSegTrainingData/Tissue_Images/*.tif'\n",
    "xml_fname = r'/data/bianhao/MoNuSegTrainingData/Annotations/*.xml'"
   ],
   "metadata": {
    "collapsed": false,
    "pycharm": {
     "name": "#%%\n"
    }
   }
  },
  {
   "cell_type": "code",
   "execution_count": 6,
   "outputs": [],
   "source": [
    "import glob\n",
    "img_fnames = sorted(glob.glob(img_fname))\n",
    "xml_fnames = sorted(glob.glob(xml_fname))"
   ],
   "metadata": {
    "collapsed": false,
    "pycharm": {
     "name": "#%%\n"
    }
   }
  },
  {
   "cell_type": "code",
   "execution_count": 7,
   "outputs": [
    {
     "output_type": "execute_result",
     "data": {
      "text/plain": [
       "['/data/bianhao/MoNuSegTrainingData/Tissue_Images/TCGA-18-5592-01Z-00-DX1.tif',\n",
       " '/data/bianhao/MoNuSegTrainingData/Tissue_Images/TCGA-21-5784-01Z-00-DX1.tif',\n",
       " '/data/bianhao/MoNuSegTrainingData/Tissue_Images/TCGA-21-5786-01Z-00-DX1.tif',\n",
       " '/data/bianhao/MoNuSegTrainingData/Tissue_Images/TCGA-38-6178-01Z-00-DX1.tif',\n",
       " '/data/bianhao/MoNuSegTrainingData/Tissue_Images/TCGA-49-4488-01Z-00-DX1.tif',\n",
       " '/data/bianhao/MoNuSegTrainingData/Tissue_Images/TCGA-50-5931-01Z-00-DX1.tif',\n",
       " '/data/bianhao/MoNuSegTrainingData/Tissue_Images/TCGA-A7-A13E-01Z-00-DX1.tif',\n",
       " '/data/bianhao/MoNuSegTrainingData/Tissue_Images/TCGA-A7-A13F-01Z-00-DX1.tif',\n",
       " '/data/bianhao/MoNuSegTrainingData/Tissue_Images/TCGA-AR-A1AK-01Z-00-DX1.tif',\n",
       " '/data/bianhao/MoNuSegTrainingData/Tissue_Images/TCGA-AR-A1AS-01Z-00-DX1.tif',\n",
       " '/data/bianhao/MoNuSegTrainingData/Tissue_Images/TCGA-AY-A8YK-01A-01-TS1.tif',\n",
       " '/data/bianhao/MoNuSegTrainingData/Tissue_Images/TCGA-B0-5698-01Z-00-DX1.tif',\n",
       " '/data/bianhao/MoNuSegTrainingData/Tissue_Images/TCGA-B0-5710-01Z-00-DX1.tif',\n",
       " '/data/bianhao/MoNuSegTrainingData/Tissue_Images/TCGA-B0-5711-01Z-00-DX1.tif',\n",
       " '/data/bianhao/MoNuSegTrainingData/Tissue_Images/TCGA-CH-5767-01Z-00-DX1.tif',\n",
       " '/data/bianhao/MoNuSegTrainingData/Tissue_Images/TCGA-DK-A2I6-01A-01-TS1.tif',\n",
       " '/data/bianhao/MoNuSegTrainingData/Tissue_Images/TCGA-E2-A14V-01Z-00-DX1.tif',\n",
       " '/data/bianhao/MoNuSegTrainingData/Tissue_Images/TCGA-E2-A1B5-01Z-00-DX1.tif',\n",
       " '/data/bianhao/MoNuSegTrainingData/Tissue_Images/TCGA-G2-A2EK-01A-02-TSB.tif',\n",
       " '/data/bianhao/MoNuSegTrainingData/Tissue_Images/TCGA-G9-6336-01Z-00-DX1.tif',\n",
       " '/data/bianhao/MoNuSegTrainingData/Tissue_Images/TCGA-G9-6348-01Z-00-DX1.tif',\n",
       " '/data/bianhao/MoNuSegTrainingData/Tissue_Images/TCGA-G9-6356-01Z-00-DX1.tif',\n",
       " '/data/bianhao/MoNuSegTrainingData/Tissue_Images/TCGA-G9-6362-01Z-00-DX1.tif',\n",
       " '/data/bianhao/MoNuSegTrainingData/Tissue_Images/TCGA-G9-6363-01Z-00-DX1.tif',\n",
       " '/data/bianhao/MoNuSegTrainingData/Tissue_Images/TCGA-HE-7128-01Z-00-DX1.tif',\n",
       " '/data/bianhao/MoNuSegTrainingData/Tissue_Images/TCGA-HE-7129-01Z-00-DX1.tif',\n",
       " '/data/bianhao/MoNuSegTrainingData/Tissue_Images/TCGA-HE-7130-01Z-00-DX1.tif',\n",
       " '/data/bianhao/MoNuSegTrainingData/Tissue_Images/TCGA-KB-A93J-01A-01-TS1.tif',\n",
       " '/data/bianhao/MoNuSegTrainingData/Tissue_Images/TCGA-NH-A8F7-01A-01-TS1.tif',\n",
       " '/data/bianhao/MoNuSegTrainingData/Tissue_Images/TCGA-RD-A8N9-01A-01-TS1.tif']"
      ]
     },
     "metadata": {},
     "execution_count": 7
    }
   ],
   "source": [
    "img_fnames\n"
   ],
   "metadata": {
    "collapsed": false,
    "pycharm": {
     "name": "#%%\n"
    }
   }
  },
  {
   "cell_type": "code",
   "execution_count": 8,
   "outputs": [
    {
     "output_type": "error",
     "ename": "OpenSlideUnsupportedFormatError",
     "evalue": "Unsupported or missing image file",
     "traceback": [
      "\u001B[0;31m---------------------------------------------------------------------------\u001B[0m",
      "\u001B[0;31mOpenSlideUnsupportedFormatError\u001B[0m           Traceback (most recent call last)",
      "\u001B[0;32m<ipython-input-8-5bd4c89df018>\u001B[0m in \u001B[0;36m<module>\u001B[0;34m\u001B[0m\n\u001B[1;32m      1\u001B[0m \u001B[0mi\u001B[0m \u001B[0;34m=\u001B[0m \u001B[0;36m0\u001B[0m\u001B[0;34m\u001B[0m\u001B[0;34m\u001B[0m\u001B[0m\n\u001B[0;32m----> 2\u001B[0;31m \u001B[0mw\u001B[0m \u001B[0;34m=\u001B[0m \u001B[0mwsi\u001B[0m\u001B[0;34m(\u001B[0m\u001B[0mimg_fname\u001B[0m\u001B[0;34m[\u001B[0m\u001B[0mi\u001B[0m\u001B[0;34m]\u001B[0m\u001B[0;34m,\u001B[0m \u001B[0mxml_fname\u001B[0m\u001B[0;34m[\u001B[0m\u001B[0mi\u001B[0m\u001B[0;34m]\u001B[0m\u001B[0;34m)\u001B[0m\u001B[0;34m\u001B[0m\u001B[0;34m\u001B[0m\u001B[0m\n\u001B[0m\u001B[1;32m      3\u001B[0m \u001B[0mplt\u001B[0m\u001B[0;34m.\u001B[0m\u001B[0mimshow\u001B[0m\u001B[0;34m(\u001B[0m\u001B[0mw\u001B[0m\u001B[0;34m.\u001B[0m\u001B[0mget_wsi\u001B[0m\u001B[0;34m(\u001B[0m\u001B[0mdesired_mpp\u001B[0m\u001B[0;34m=\u001B[0m\u001B[0;36m8\u001B[0m\u001B[0;34m)\u001B[0m\u001B[0;34m)\u001B[0m\u001B[0;34m\u001B[0m\u001B[0;34m\u001B[0m\u001B[0m\n",
      "\u001B[0;32m~/anaconda3/envs/HuBMAP/lib/python3.7/site-packages/WSI_handling/wsi.py\u001B[0m in \u001B[0;36m__init__\u001B[0;34m(self, img_fname, annotation_fname, mpp, img_dims)\u001B[0m\n\u001B[1;32m     35\u001B[0m \u001B[0;34m\u001B[0m\u001B[0m\n\u001B[1;32m     36\u001B[0m         \u001B[0;32mif\u001B[0m \u001B[0mimg_fname\u001B[0m \u001B[0;32mis\u001B[0m \u001B[0;32mnot\u001B[0m \u001B[0;32mNone\u001B[0m\u001B[0;34m:\u001B[0m\u001B[0;34m\u001B[0m\u001B[0;34m\u001B[0m\u001B[0m\n\u001B[0;32m---> 37\u001B[0;31m             \u001B[0mself\u001B[0m\u001B[0;34m[\u001B[0m\u001B[0;34m\"osh\"\u001B[0m\u001B[0;34m]\u001B[0m \u001B[0;34m=\u001B[0m \u001B[0mopenslide\u001B[0m\u001B[0;34m.\u001B[0m\u001B[0mOpenSlide\u001B[0m\u001B[0;34m(\u001B[0m\u001B[0mimg_fname\u001B[0m\u001B[0;34m)\u001B[0m\u001B[0;34m\u001B[0m\u001B[0;34m\u001B[0m\u001B[0m\n\u001B[0m\u001B[1;32m     38\u001B[0m \u001B[0;34m\u001B[0m\u001B[0m\n\u001B[1;32m     39\u001B[0m             \u001B[0;31m# if mpp is not provided in file\u001B[0m\u001B[0;34m\u001B[0m\u001B[0;34m\u001B[0m\u001B[0;34m\u001B[0m\u001B[0m\n",
      "\u001B[0;32m~/anaconda3/envs/HuBMAP/lib/python3.7/site-packages/openslide/__init__.py\u001B[0m in \u001B[0;36m__init__\u001B[0;34m(self, filename)\u001B[0m\n\u001B[1;32m    158\u001B[0m         \u001B[0mAbstractSlide\u001B[0m\u001B[0;34m.\u001B[0m\u001B[0m__init__\u001B[0m\u001B[0;34m(\u001B[0m\u001B[0mself\u001B[0m\u001B[0;34m)\u001B[0m\u001B[0;34m\u001B[0m\u001B[0;34m\u001B[0m\u001B[0m\n\u001B[1;32m    159\u001B[0m         \u001B[0mself\u001B[0m\u001B[0;34m.\u001B[0m\u001B[0m_filename\u001B[0m \u001B[0;34m=\u001B[0m \u001B[0mfilename\u001B[0m\u001B[0;34m\u001B[0m\u001B[0;34m\u001B[0m\u001B[0m\n\u001B[0;32m--> 160\u001B[0;31m         \u001B[0mself\u001B[0m\u001B[0;34m.\u001B[0m\u001B[0m_osr\u001B[0m \u001B[0;34m=\u001B[0m \u001B[0mlowlevel\u001B[0m\u001B[0;34m.\u001B[0m\u001B[0mopen\u001B[0m\u001B[0;34m(\u001B[0m\u001B[0mfilename\u001B[0m\u001B[0;34m)\u001B[0m\u001B[0;34m\u001B[0m\u001B[0;34m\u001B[0m\u001B[0m\n\u001B[0m\u001B[1;32m    161\u001B[0m \u001B[0;34m\u001B[0m\u001B[0m\n\u001B[1;32m    162\u001B[0m     \u001B[0;32mdef\u001B[0m \u001B[0m__repr__\u001B[0m\u001B[0;34m(\u001B[0m\u001B[0mself\u001B[0m\u001B[0;34m)\u001B[0m\u001B[0;34m:\u001B[0m\u001B[0;34m\u001B[0m\u001B[0;34m\u001B[0m\u001B[0m\n",
      "\u001B[0;32m~/anaconda3/envs/HuBMAP/lib/python3.7/site-packages/openslide/lowlevel.py\u001B[0m in \u001B[0;36m_check_open\u001B[0;34m(result, _func, _args)\u001B[0m\n\u001B[1;32m    127\u001B[0m     \u001B[0;32mif\u001B[0m \u001B[0mresult\u001B[0m \u001B[0;32mis\u001B[0m \u001B[0;32mNone\u001B[0m\u001B[0;34m:\u001B[0m\u001B[0;34m\u001B[0m\u001B[0;34m\u001B[0m\u001B[0m\n\u001B[1;32m    128\u001B[0m         raise OpenSlideUnsupportedFormatError(\n\u001B[0;32m--> 129\u001B[0;31m                 \"Unsupported or missing image file\")\n\u001B[0m\u001B[1;32m    130\u001B[0m     \u001B[0mslide\u001B[0m \u001B[0;34m=\u001B[0m \u001B[0m_OpenSlide\u001B[0m\u001B[0;34m(\u001B[0m\u001B[0mc_void_p\u001B[0m\u001B[0;34m(\u001B[0m\u001B[0mresult\u001B[0m\u001B[0;34m)\u001B[0m\u001B[0;34m)\u001B[0m\u001B[0;34m\u001B[0m\u001B[0;34m\u001B[0m\u001B[0m\n\u001B[1;32m    131\u001B[0m     \u001B[0merr\u001B[0m \u001B[0;34m=\u001B[0m \u001B[0mget_error\u001B[0m\u001B[0;34m(\u001B[0m\u001B[0mslide\u001B[0m\u001B[0;34m)\u001B[0m\u001B[0;34m\u001B[0m\u001B[0;34m\u001B[0m\u001B[0m\n",
      "\u001B[0;31mOpenSlideUnsupportedFormatError\u001B[0m: Unsupported or missing image file"
     ]
    }
   ],
   "source": [
    "i = 0\n",
    "w = wsi(img_fname[i], xml_fname[i])\n",
    "plt.imshow(w.get_wsi(desired_mpp=8))"
   ],
   "metadata": {
    "collapsed": false,
    "pycharm": {
     "name": "#%%\n"
    }
   }
  },
  {
   "cell_type": "code",
   "execution_count": null,
   "metadata": {},
   "outputs": [],
   "source": []
  }
 ],
 "metadata": {
  "kernelspec": {
   "display_name": "Python 3",
   "language": "python",
   "name": "python3"
  },
  "language_info": {
   "codemirror_mode": {
    "name": "ipython",
    "version": 2
   },
   "file_extension": ".py",
   "mimetype": "text/x-python",
   "name": "python",
   "nbconvert_exporter": "python",
   "pygments_lexer": "ipython2",
   "version": "3.7.9-final"
  }
 },
 "nbformat": 4,
 "nbformat_minor": 0
}